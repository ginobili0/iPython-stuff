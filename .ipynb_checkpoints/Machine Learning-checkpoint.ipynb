{
 "cells": [
  {
   "cell_type": "markdown",
   "metadata": {},
   "source": [
    "## Resources"
   ]
  },
  {
   "cell_type": "markdown",
   "metadata": {},
   "source": [
    "1.) SciKit Learn's own Documentation is fantastic! They have their own basic tutorial: \n",
    "http://www.astroml.org/sklearn_tutorial/general_concepts.html\n",
    "\n",
    "2.) Introduction Overview from Toptal: \n",
    "http://www.toptal.com/machine-learning/machine-learning-theory-an-introductory-primer\n",
    "\n",
    "3.) This free online book by Stanford professor Nils J. Nilsson: http://robotics.stanford.edu/people/nilsson/MLBOOK.pdf\n",
    "\n",
    "3.) Andrew Ng's Machine Learning Class"
   ]
  },
  {
   "cell_type": "markdown",
   "metadata": {
    "collapsed": true
   },
   "source": [
    "What is Machine Learning?\n",
    "\n",
    "1. We start with data, which we call experience E.\n",
    "\n",
    "2. We decide to perform some sort of analysis or task, which we call T.\n",
    "\n",
    "3. Then we use some validation measure to test our accuracy, we call this performance measure P."
   ]
  },
  {
   "cell_type": "markdown",
   "metadata": {},
   "source": [
    "### Supervised Learning"
   ]
  },
  {
   "cell_type": "markdown",
   "metadata": {
    "collapsed": true
   },
   "source": [
    "In supervised learning, we have a dataset consisting of both features and labels. The task is to construct an estimator which is able to predict the label of an object given the set of features.\n",
    "\n",
    "It is divided into two categories:\n",
    "\n",
    "1. Regression\n",
    "\n",
    "2. Classification"
   ]
  },
  {
   "cell_type": "markdown",
   "metadata": {},
   "source": [
    "Classification: Classification is discrete, meaning an example belongs to precisely one class, and the set of classes covers the whole possible output space. Ex: Classifying a tumor as either malignant or benign base on input data."
   ]
  },
  {
   "cell_type": "markdown",
   "metadata": {},
   "source": [
    "Regression: Given some data, the machine assuems that those values come from some sort of function and attempts to find out what that function is. It tries to fit a mathematical function that describes a curve, such that the curve passes as close as possible to all the data points. Ex: Predicting house prices based on input data."
   ]
  },
  {
   "cell_type": "markdown",
   "metadata": {},
   "source": [
    "### Unsupervised Learning"
   ]
  },
  {
   "cell_type": "markdown",
   "metadata": {},
   "source": [
    "Unsupervised Learning addresses a different sort of problem. Here the data has no labels, and we are interested in finding similarities between the objects in question. In a sense, you can think of unsupervised learning as a means of discovering labels from the data itself. Ex:\n",
    "\n",
    "1. Given a mixture of sound sources, try to separate the sources of each particular sound.\n",
    "\n",
    "2. Group people on into different clusters based on their likes/dislikes.\n"
   ]
  },
  {
   "cell_type": "code",
   "execution_count": null,
   "metadata": {
    "collapsed": true
   },
   "outputs": [],
   "source": []
  }
 ],
 "metadata": {
  "kernelspec": {
   "display_name": "Python 2",
   "language": "python",
   "name": "python2"
  },
  "language_info": {
   "codemirror_mode": {
    "name": "ipython",
    "version": 2
   },
   "file_extension": ".py",
   "mimetype": "text/x-python",
   "name": "python",
   "nbconvert_exporter": "python",
   "pygments_lexer": "ipython2",
   "version": "2.7.6"
  }
 },
 "nbformat": 4,
 "nbformat_minor": 0
}
